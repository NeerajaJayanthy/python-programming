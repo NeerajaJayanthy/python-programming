{
  "cells": [
    {
      "cell_type": "markdown",
      "metadata": {
        "id": "view-in-github",
        "colab_type": "text"
      },
      "source": [
        "<a href=\"https://colab.research.google.com/github/NeerajaJayanthy/python-programming/blob/main/python_problems.ipynb\" target=\"_parent\"><img src=\"https://colab.research.google.com/assets/colab-badge.svg\" alt=\"Open In Colab\"/></a>"
      ]
    },
    {
      "cell_type": "markdown",
      "metadata": {
        "id": "eyf9HlfGpXEb"
      },
      "source": [
        "**Tutorial 1 LISTS, TUPLES and DICTIONARIES**"
      ]
    },
    {
      "cell_type": "markdown",
      "metadata": {
        "id": "-xR8bcYbrWrZ"
      },
      "source": [
        "Write a program that accepts a sentence and calculate the number of letters and digits. Suppose the following input is supplied to the program:hello world! 123 Then, the output should be: LETTERS 10 DIGITS 3. Use Dictionary.\n",
        "\n"
      ]
    },
    {
      "cell_type": "code",
      "execution_count": null,
      "metadata": {
        "colab": {
          "base_uri": "https://localhost:8080/"
        },
        "id": "oQNKubBYpIi1",
        "outputId": "5948246f-2b2d-435f-fd6f-de95b69958ec"
      },
      "outputs": [
        {
          "name": "stdout",
          "output_type": "stream",
          "text": [
            "Enter a sentence: hello world123\n",
            "LETTERS 10,DIGITS 3\n"
          ]
        }
      ],
      "source": [
        "# Input a sentence from the user\n",
        "x= input(\"Enter a sentence: \")\n",
        "\n",
        "# Initialize a dictionary to store the count of letters and digits\n",
        "count_dict = {'LETTERS': 0, 'DIGITS': 0}\n",
        "\n",
        "# Iterate over each character in the input string\n",
        "for char in x:\n",
        "    # Check if the character is a digit\n",
        "    if char.isdigit():\n",
        "        count_dict['DIGITS'] += 1\n",
        "    # Check if the character is a letter\n",
        "    elif char.isalpha():\n",
        "        count_dict['LETTERS'] += 1\n",
        "\n",
        "# Display the counts stored in the dictionary\n",
        "print(f\"LETTERS {count_dict['LETTERS']},DIGITS {count_dict['DIGITS']}\")\n"
      ]
    },
    {
      "cell_type": "markdown",
      "metadata": {
        "id": "k1vwL38Q-fV_"
      },
      "source": [
        "**You** are required to write a program to sort the (name, age, height) tuples by ascending order where name is string, age and height are numbers. The tuples are input by console. The sort criteria is: 1: Sort based on name; 2: Then sort based on age; 3: Then sort by score. The priority is that name > age > score. If the following tuples are given as input to the program: Tom,19,80 John,20,90 Jony,17,91 Jony,17,93 Json,21,85 Then, the output of the program should be: [('John', '20', '90'), ('Jony', '17', '91'), ('Jony', '17', '93'), ('Json', '21', '85'), ('Tom', '19', '80')]."
      ]
    },
    {
      "cell_type": "code",
      "execution_count": null,
      "metadata": {
        "id": "_LyvbnaP-pwa",
        "colab": {
          "base_uri": "https://localhost:8080/"
        },
        "outputId": "b6cf6a6e-ca27-4bd2-ec32-54529a5e3e41"
      },
      "outputs": [
        {
          "output_type": "stream",
          "name": "stdout",
          "text": [
            "Enter name, age, height: sree,23,45\n",
            "Enter name, age, height: sree,45,48\n",
            "Enter name, age, height: sree,21,46\n",
            "Enter name, age, height: \n",
            "\n",
            "Sorted (name, age, height) tuples:\n",
            "('sree', 21, 46)\n",
            "('sree', 23, 45)\n",
            "('sree', 45, 48)\n"
          ]
        }
      ],
      "source": [
        "def input_tuples():\n",
        "    tuples_list = []\n",
        "    while True:\n",
        "        # Input the details from the user\n",
        "        data = input(\"Enter name, age, height: \")\n",
        "        # Stop the input if the user presses Enter\n",
        "        if not data:\n",
        "            break\n",
        "        # Split the input into name, age, and height\n",
        "        name, age, height = data.split(',')\n",
        "        # Add the tuple to the list (convert age and height to integers)\n",
        "        #.srtrip() removes extra spaces from name ahe and height\n",
        "        tuples_list.append((name.strip(), int(age.strip()), int(height.strip())))\n",
        "\n",
        "    return tuples_list\n",
        "\n",
        "def sort_tuples(tuples_list):\n",
        "    # Sort by name, age, and height (in that order)\n",
        "    #key = lambda allows you to define a custom sorting or comparison rule for your data.\n",
        "\n",
        "    return sorted(tuples_list,key=lambda x:(x[0],x[1],x[2]))\n",
        "\n",
        "# Main program\n",
        "tuples_list = input_tuples()\n",
        "sorted_tuples = sort_tuples(tuples_list)\n",
        "\n",
        "# Display the sorted tuples\n",
        "print(\"\\nSorted (name, age, height) tuples:\")\n",
        "for t in sorted_tuples:\n",
        "    print(t)\n"
      ]
    },
    {
      "cell_type": "markdown",
      "metadata": {
        "id": "173ZzgovP7_P"
      },
      "source": [
        "A robot moves in a plane starting from the original point (0,0). The robot can move toward UP, DOWN, LEFT and RIGHT with a given steps. The trace of robot movement is shown as the following: UP 5 DOWN 3 LEFT\n",
        "3 RIGHT 2 ¡The numbers after the direction are steps. Please write a\n",
        "program to compute the distance from current position after a sequence of movement and original point. If the distance is a float, then just print the nearest integer. Example: If the following tuples are given as input to the program: UP 5 DOWN 3 LEFT 3 RIGHT 2 Then, the output of the program should be: 2."
      ]
    },
    {
      "cell_type": "code",
      "execution_count": null,
      "metadata": {
        "colab": {
          "base_uri": "https://localhost:8080/"
        },
        "id": "OzZ3NzyzR180",
        "outputId": "467df59e-7354-44f4-aeb2-59c713dadafb"
      },
      "outputs": [
        {
          "name": "stdout",
          "output_type": "stream",
          "text": [
            "Enter direction and movement up,6\n",
            "Enter direction and movement down,2\n",
            "Enter direction and movement \n",
            "4\n"
          ]
        }
      ],
      "source": [
        "import math\n",
        "# Function to compute the distance from origin after movements\n",
        "def calculate_distance():\n",
        "    # Initialize the starting point\n",
        "    x, y = 0, 0\n",
        "\n",
        "    # Continuously accept inputs for movements\n",
        "    while True:\n",
        "        movement = input(\"Enter direction and movement \")\n",
        "\n",
        "        # Stop if the input is empty\n",
        "        if not movement:\n",
        "            break\n",
        "\n",
        "        # Split the input into direction and steps\n",
        "        direction, steps = movement.split(',')\n",
        "        steps = int(steps)  # Convert steps to integer\n",
        "\n",
        "        # Adjust x and y based on the direction\n",
        "        if direction.upper() == \"UP\":\n",
        "            y += steps\n",
        "        elif direction.upper() == \"DOWN\":\n",
        "            y -= steps\n",
        "        elif direction.upper() == \"LEFT\":\n",
        "            x -= steps\n",
        "        elif direction.upper() == \"RIGHT\":\n",
        "            x += steps\n",
        "\n",
        "    # Calculate the Euclidean distance from origin (0, 0) using Pythagoras theorem\n",
        "    distance = math.sqrt(x**2 + y**2)\n",
        "\n",
        "    # Return the nearest integer of the distance\n",
        "    return round(distance)\n",
        "\n",
        "# Call the function and print the result\n",
        "result = calculate_distance()\n",
        "print(result)\n"
      ]
    },
    {
      "cell_type": "markdown",
      "metadata": {
        "id": "T4_8sgxJTWHB"
      },
      "source": [
        "**The birthday paradox is based on a counter-intuitive fact that in any class of 23 students or more, there is a higher probability of having at least two students sharing the same birthday. Considering that there are 366 different possible dates in a year (leap year), you may first predict that it would take a group of 183 students (50% of 366) to reach a 50% probability of at least two students sharing the same birthday. However this prediction would be wrong as this is not how the probabilities work in this case. You can use this page to find out more how to work out that with a class size of only 23 students, there is a probability of 50% that at least two students share the same birthday.**\n",
        "\n",
        "\n"
      ]
    },
    {
      "cell_type": "code",
      "execution_count": null,
      "metadata": {
        "id": "1sMLy2GEUo1c",
        "colab": {
          "base_uri": "https://localhost:8080/"
        },
        "outputId": "2d10d363-7d17-4e62-98a0-658347087345"
      },
      "outputs": [
        {
          "output_type": "stream",
          "name": "stdout",
          "text": [
            "Probability of at least two people sharing a birthday in a group of 23: 50.40%\n"
          ]
        }
      ],
      "source": [
        "import random\n",
        "\n",
        "# Function to simulate one experiment\n",
        "def has_shared_birthday(num_people):\n",
        "    birthdays = []\n",
        "    for i in range(num_people):\n",
        "        # Randomly generate a birthday between 1 and 366 (inclusive for leap years)\n",
        "        birthday = random.randint(1, 366)\n",
        "        if birthday in birthdays:# if birthday already exists in the list, the function immediately returns True, meaning at least two people have the same birthday.\n",
        "            return True\n",
        "        birthdays.append(birthday)\n",
        "    return False# if the birthday doesnot exsist in the list\n",
        "\n",
        "# Simulate the experiment multiple times\n",
        "def simulate_birthday_paradox(num_people, num_simulations):#calculates the probability of at least two people sharing a birthday.\n",
        "    shared_birthday_count = 0\n",
        "    for i in range(num_simulations):\n",
        "        if has_shared_birthday(num_people):\n",
        "            shared_birthday_count += 1\n",
        "    return shared_birthday_count / num_simulations\n",
        "\n",
        "# Set parameters\n",
        "num_people = 23\n",
        "num_simulations = 10000\n",
        "\n",
        "# Run the simulation\n",
        "probability = simulate_birthday_paradox(num_people, num_simulations)\n",
        "print(f\"Probability of at least two people sharing a birthday in a group of {num_people}: {probability * 100:.2f}%\")\n"
      ]
    },
    {
      "cell_type": "markdown",
      "metadata": {
        "id": "J9I6hHKYgl-5"
      },
      "source": [
        "**Write a Python script to create a quiz where we ask the user to guess as many African countries as possible. The player will score one point per correct country. The player has three lives. For each invalid answer, the player should lose a life. The game should stop and display a game over message when the player has found all 54 countries or when they have lost their 3 lives.**"
      ]
    },
    {
      "cell_type": "code",
      "execution_count": null,
      "metadata": {
        "colab": {
          "base_uri": "https://localhost:8080/"
        },
        "id": "0rCdssY-gqPb",
        "outputId": "ac46854a-c324-419e-8d84-28bd1275f0ee"
      },
      "outputs": [
        {
          "name": "stdout",
          "output_type": "stream",
          "text": [
            "Welcome to the African Countries Quiz!\n",
            "You need to guess as many African countries as possible. You have 3 lives.\n",
            "For each incorrect guess, you lose a life. The game ends when you lose all your lives or guess all 54 countries.\n",
            "\n",
            "Enter the name of an African country: algeria\n",
            "Incorrect! You have 2 lives remaining.\n",
            "Enter the name of an African country: Algeria\n",
            "Correct! You've guessed 1 countries.\n",
            "Enter the name of an African country: Sudan\n",
            "Correct! You've guessed 2 countries.\n",
            "Enter the name of an African country: Zimbabwe\n",
            "Correct! You've guessed 3 countries.\n",
            "Enter the name of an African country: \n",
            "Incorrect! You have 1 lives remaining.\n",
            "Enter the name of an African country: Benin\n",
            "Correct! You've guessed 4 countries.\n",
            "Enter the name of an African country: jjjj\n",
            "Incorrect! You have 0 lives remaining.\n",
            "\n",
            "Game Over! You've lost all your lives.\n",
            "Your final score is: 4\n",
            "Countries you guessed: Sudan, Algeria, Zimbabwe, Benin\n"
          ]
        }
      ],
      "source": [
        "# List of all African countries\n",
        "african_countries = [\n",
        "    \"Algeria\", \"Angola\", \"Benin\", \"Botswana\", \"Burkina Faso\", \"Burundi\", \"Cabo Verde\", \"Cameroon\",\n",
        "    \"Central African Republic\", \"Chad\", \"Comoros\", \"Democratic Republic of the Congo\", \"Djibouti\",\n",
        "    \"Egypt\", \"Equatorial Guinea\", \"Eritrea\", \"Eswatini\", \"Ethiopia\", \"Gabon\", \"Gambia\", \"Ghana\",\n",
        "    \"Guinea\", \"Guinea-Bissau\", \"Ivory Coast\", \"Kenya\", \"Lesotho\", \"Liberia\", \"Libya\", \"Madagascar\",\n",
        "    \"Malawi\", \"Mali\", \"Mauritania\", \"Mauritius\", \"Morocco\", \"Mozambique\", \"Namibia\", \"Niger\",\n",
        "    \"Nigeria\", \"Republic of the Congo\", \"Rwanda\", \"Sao Tome and Principe\", \"Senegal\", \"Seychelles\",\n",
        "    \"Sierra Leone\", \"Somalia\", \"South Africa\", \"South Sudan\", \"Sudan\", \"Tanzania\", \"Togo\", \"Tunisia\",\n",
        "    \"Uganda\", \"Zambia\", \"Zimbabwe\"\n",
        "]\n",
        "\n",
        "# Set of countries the player has already guessed\n",
        "guessed_countries = set()\n",
        "\n",
        "# Player has 3 lives\n",
        "lives = 3\n",
        "\n",
        "# Points (correct guesses)\n",
        "points = 0\n",
        "\n",
        "print(\"Welcome to the African Countries Quiz!\")\n",
        "print(\"You need to guess as many African countries as possible. You have 3 lives.\")\n",
        "print(\"For each incorrect guess, you lose a life. The game ends when you lose all your lives or guess all 54 countries.\\n\")\n",
        "\n",
        "# Main game loop\n",
        "while lives > 0 and len(guessed_countries) < 54:\n",
        "    guess = input(\"Enter the name of an African country: \").strip()\n",
        "\n",
        "    # Check if the guess is correct and not already guessed\n",
        "    if guess in african_countries and guess not in guessed_countries:\n",
        "        guessed_countries.add(guess)  # Add the correct guess to the set\n",
        "        points += 1\n",
        "        print(f\"Correct! You've guessed {points} countries.\")\n",
        "    # Check if the country has already been guessed\n",
        "    elif guess in guessed_countries:\n",
        "        print(f\"You've already guessed {guess}. Try another country.\")\n",
        "    else:\n",
        "        lives -= 1  # Wrong guess, lose a life\n",
        "        print(f\"Incorrect! You have {lives} lives remaining.\")\n",
        "\n",
        "# Game over\n",
        "if lives == 0:\n",
        "    print(\"\\nGame Over! You've lost all your lives.\")\n",
        "else:\n",
        "    print(\"\\nCongratulations! You've guessed all African countries.\")\n",
        "\n",
        "print(f\"Your final score is: {points}\")\n",
        "print(f\"Countries you guessed: {', '.join(guessed_countries)}\")\n"
      ]
    },
    {
      "cell_type": "markdown",
      "metadata": {
        "id": "5KfEdfQ9jcZJ"
      },
      "source": [
        "**The School Lockers Puzzle: On the first day of school, the principal of Locker High school decides to conduct an experiment. The school has exactly 1,000 students and 1,000 lockers all lined up alongside the main corridor of the school.\n",
        "●The principal asks the first student to walk down the main corridor of the school to close all the lockers.\n",
        "●The principal then asks the second student to walk down the main corridor and open every other locker.\n",
        "●The principal then asks the third student to walk down the main corridor and either open every third locker if it is closed, or close it if it is open.\n",
        "●The fourth student will then repeat the same process for every fourth locker.\n",
        "●And so on, till the last of the 1,000 students repeats this process for every 1,000th locker, so in fact, just opening the 1,000th locker if it is closed, or closing it if it is already open.\n",
        "At the end of this experiment the principal decides to count the number of lockers which are closed.\n",
        "Write a python program to simulate this experiment and at the end, count and output the total number of lockers which are closed.**"
      ]
    },
    {
      "cell_type": "code",
      "execution_count": null,
      "metadata": {
        "colab": {
          "base_uri": "https://localhost:8080/"
        },
        "id": "E6KpKZuGkWAa",
        "outputId": "bec22ff3-16d1-4190-f606-e6e0927ded3a"
      },
      "outputs": [
        {
          "name": "stdout",
          "output_type": "stream",
          "text": [
            "The number of lockers that are closed: 969\n"
          ]
        }
      ],
      "source": [
        "def school_lockers_experiment(num_lockers):\n",
        "    # Initially, all lockers are closed (represented by False)\n",
        "    lockers = [False] * num_lockers  # False means closed, True means open\n",
        "\n",
        "    # Simulate the experiment where each student toggles lockers\n",
        "    for student in range(1, num_lockers + 1):\n",
        "        # Each student toggles lockers they encounter (every nth locker for nth student)\n",
        "#  A locker is toggled by each student whose number is a divisor of that locker’s number. For example, locker 12 is toggled by student 1, 2, 3, 4, 6, and 12.\n",
        "# If a locker number has an odd number of divisors, it will end up open;\n",
        "#  otherwise, it will be closed. Only perfect squares have an odd number of divisors (because they have a divisor that repeats).\n",
        "\n",
        "        for locker in range(student - 1, num_lockers, student):\n",
        "            lockers[locker] = not lockers[locker]  # Toggle the state of the locker\n",
        "\n",
        "    # Count how many lockers are closed (False)\n",
        "    closed_lockers_count = lockers.count(False)\n",
        "\n",
        "    return closed_lockers_count\n",
        "\n",
        "# Number of lockers (and students)\n",
        "num_lockers = 1000\n",
        "\n",
        "# Run the experiment and get the result\n",
        "closed_lockers = school_lockers_experiment(num_lockers)\n",
        "\n",
        "# Output the result\n",
        "print(f\"The number of lockers that are closed: {closed_lockers}\")\n"
      ]
    },
    {
      "cell_type": "markdown",
      "metadata": {
        "id": "l3-5i9v-mBg6"
      },
      "source": [
        "**Given N names and phone numbers, assemble a phone book that maps friends' names to their respective phone numbers. You will then be given an unknown number of names to query your phone book for. For each name queried, print the associated entry from your phone book on a new line in the form name=phoneNumber; if an entry name for is not found, print Not found instead.\n",
        "Note: Your phone book should be a Dictionary data structure.\n",
        "Input Format\n",
        "The first line contains an integer, N, denoting the number of entries in the phone book.\n",
        "Each of the N subsequent lines describes an entry in the form of 2-space-separated values on a single line. The first value is a friend's name, and the second value is an 8-digit phone number.\n",
        "After the N lines of phone book entries, there are an unknown number of lines of queries. Each line (query) contains a name to look up, and you must continue reading lines until there is no more input.\n",
        "Note: Names consist of lowercase English alphabetic letters and are first names only.**"
      ]
    },
    {
      "cell_type": "code",
      "execution_count": null,
      "metadata": {
        "colab": {
          "background_save": true,
          "base_uri": "https://localhost:8080/"
        },
        "id": "e-21dVR0mZJx",
        "outputId": "a75770dc-57fe-44bf-bf88-62d2de698fe1"
      },
      "outputs": [
        {
          "name": "stdout",
          "output_type": "stream",
          "text": [
            "Not found\n",
            "Not found\n",
            "sam=994757648\n"
          ]
        }
      ],
      "source": [
        "# Input the number of entries\n",
        "n = int(input())\n",
        "\n",
        "# Initialize an empty dictionary for the phone book\n",
        "phone_book = {}\n",
        "\n",
        "# Read the phone book entries\n",
        "for _ in range(n):\n",
        "    # Split each input line into name and phone number\n",
        "    entry = input().split()\n",
        "    name = entry[0]\n",
        "    phone_number = entry[1]\n",
        "\n",
        "    # Add the entry to the phone book\n",
        "    phone_book[name] = phone_number\n",
        "\n",
        "# Process queries until end of input\n",
        "try:\n",
        "    while True:\n",
        "        # Read each query\n",
        "        query = input().strip()\n",
        "\n",
        "        # Check if the queried name exists in the phone book\n",
        "        if query in phone_book:\n",
        "            print(f\"{query}={phone_book[query]}\")\n",
        "        else:\n",
        "            print(\"Not found\")\n",
        "except EOFError:\n",
        "    # End of input\n",
        "    pass\n"
      ]
    },
    {
      "cell_type": "markdown",
      "metadata": {
        "id": "AzcDMmgWnKPv"
      },
      "source": [
        "**In this challenge we will use a Python algorithm to perform a frequency analysis of the score obtained when throwing a set of two dice.\n",
        "Frequency analysis using 1 dice\n",
        "Let’s consider a single 6-sided dice.\n",
        "When using single dice, the score of the dice can be any of the 6 values/sides (1 to 6). Each value has an equal probability of 1/6.\n",
        "The dice experiment can be simulated using a computer algorithm to simulate throwing a dice 1,000 times and keeping a record of the number of times each of the 6 values appeared. We can then calculate the frequency of each value as a percentage. In theory, each value should have a very similar frequency of around 16.67% (matching the 1/6 probability). When completing such an experiment in real life, we would most likely use a tally\n",
        "chart to record the number of occurrences for each of the 6 possible values. To record our “tallies” in a Python program we will use a dictionary with 6 keys (the 6 values of a dice, from 1 to 6) and for each key, the associated value will be the number of occurrences of when the value appeared.**"
      ]
    },
    {
      "cell_type": "code",
      "execution_count": null,
      "metadata": {
        "id": "ms669cSGoETr",
        "colab": {
          "base_uri": "https://localhost:8080/"
        },
        "outputId": "de475185-5972-411e-e852-03a178bdaba8"
      },
      "outputs": [
        {
          "output_type": "stream",
          "name": "stdout",
          "text": [
            "Value\tCount\tFrequency (%)\n",
            "1\t166\t16.60%\n",
            "2\t172\t17.20%\n",
            "3\t175\t17.50%\n",
            "4\t155\t15.50%\n",
            "5\t163\t16.30%\n",
            "6\t169\t16.90%\n"
          ]
        },
        {
          "output_type": "execute_result",
          "data": {
            "text/plain": [
              "{1: 166, 2: 172, 3: 175, 4: 155, 5: 163, 6: 169}"
            ]
          },
          "metadata": {},
          "execution_count": 2
        }
      ],
      "source": [
        "import random\n",
        "\n",
        "def simulate_dice_rolls(num_rolls):\n",
        "    # Dictionary to store the tally of each value (1 to 6)\n",
        "    tally = {i: 0 for i in range(1, 7)}\n",
        "\n",
        "    # Simulate dice rolls\n",
        "    for _ in range(num_rolls):\n",
        "        roll = random.randint(1, 6)  # Generate a random roll between 1 and 6\n",
        "        tally[roll] += 1  # Increment the count for the rolled value\n",
        "\n",
        "    # Calculate and display frequency analysis\n",
        "    print(\"Value\\tCount\\tFrequency (%)\")\n",
        "    for value, count in tally.items():\n",
        "        frequency = (count / num_rolls) * 100  # Calculate frequency as percentage of each roll of dice\n",
        "        print(f\"{value}\\t{count}\\t{frequency:.2f}%\")#prints in table format\n",
        "\n",
        "    return tally\n",
        "\n",
        "# Simulate 1000 dice rolls\n",
        "num_rolls = 1000\n",
        "simulate_dice_rolls(num_rolls)\n"
      ]
    },
    {
      "cell_type": "markdown",
      "source": [
        "### TUTORIAL 2 SERIES"
      ],
      "metadata": {
        "id": "vdib7XWtM3cM"
      }
    },
    {
      "cell_type": "code",
      "source": [
        "import pandas as pd\n",
        "import matplotlib.pyplot as plt\n",
        "from google.colab import files\n",
        "\n",
        "#qn 1\n",
        "uploaded=files.upload()\n",
        "data=pd.read_csv(list(uploaded.keys())[0])\n",
        "print(data)\n",
        "\n",
        "#qn 2\n",
        "quantity=pd.Series(data['Quantity'])\n",
        "price=pd.Series(data['Price'])\n",
        "data['Total_sales']=quantity*price\n",
        "print(data)  # Check the first few rows to ensure 'Total Sales' column exists\n",
        "\n",
        "#qn 3\n",
        "data['Date'] = pd.to_datetime(data['Date'])\n",
        "# Group by 'Date' and sum the 'Total Sales' for each day\n",
        "daily_sales = data.groupby('Date')['Total_sales'].sum()\n",
        "# Convert the result to a Series and display it\n",
        "daily_sales_series = pd.Series(daily_sales)\n",
        "print(daily_sales_series)\n",
        "\n",
        "#qn 4\n",
        "product_sales = data.groupby('Product')['Total_sales'].sum()\n",
        "# 3. Sort the products by total sales in descending order and select top 3\n",
        "top_3_products = product_sales.nlargest(3)\n",
        "# 4. Create a Series for these top 3 products\n",
        "top_3_sales_series = pd.Series(top_3_products)\n",
        "# Display the result\n",
        "print(top_3_sales_series)\n",
        "\n",
        "#qn 5\n",
        "category_sales = data.groupby('Category')['Total_sales'].sum()\n",
        "# Step 3: Convert the result to a Series\n",
        "sales_by_category = pd.Series(category_sales)\n",
        "# Display the result\n",
        "print(sales_by_category)\n",
        "\n",
        "#qn 6\n",
        "plt.figure(figsize=(10, 6))\n",
        "daily_sales_series.plot(kind='bar', color='blue')\n",
        "plt.title('Daily Sales Trends Over the Month')\n",
        "plt.xlabel('Date')\n",
        "plt.ylabel('Total Sales')\n",
        "plt.grid(True)\n",
        "plt.tight_layout()  # Adjust layout to prevent label cutoff\n",
        "plt.show()\n",
        "\n",
        "\n"
      ],
      "metadata": {
        "colab": {
          "base_uri": "https://localhost:8080/",
          "height": 1000
        },
        "id": "s8M9fmjRWUXb",
        "outputId": "adafeb9d-66b8-46fa-809b-cbf9a3cb9046"
      },
      "execution_count": 26,
      "outputs": [
        {
          "output_type": "display_data",
          "data": {
            "text/plain": [
              "<IPython.core.display.HTML object>"
            ],
            "text/html": [
              "\n",
              "     <input type=\"file\" id=\"files-08b6c30e-2671-4eae-89b9-534510e1ce08\" name=\"files[]\" multiple disabled\n",
              "        style=\"border:none\" />\n",
              "     <output id=\"result-08b6c30e-2671-4eae-89b9-534510e1ce08\">\n",
              "      Upload widget is only available when the cell has been executed in the\n",
              "      current browser session. Please rerun this cell to enable.\n",
              "      </output>\n",
              "      <script>// Copyright 2017 Google LLC\n",
              "//\n",
              "// Licensed under the Apache License, Version 2.0 (the \"License\");\n",
              "// you may not use this file except in compliance with the License.\n",
              "// You may obtain a copy of the License at\n",
              "//\n",
              "//      http://www.apache.org/licenses/LICENSE-2.0\n",
              "//\n",
              "// Unless required by applicable law or agreed to in writing, software\n",
              "// distributed under the License is distributed on an \"AS IS\" BASIS,\n",
              "// WITHOUT WARRANTIES OR CONDITIONS OF ANY KIND, either express or implied.\n",
              "// See the License for the specific language governing permissions and\n",
              "// limitations under the License.\n",
              "\n",
              "/**\n",
              " * @fileoverview Helpers for google.colab Python module.\n",
              " */\n",
              "(function(scope) {\n",
              "function span(text, styleAttributes = {}) {\n",
              "  const element = document.createElement('span');\n",
              "  element.textContent = text;\n",
              "  for (const key of Object.keys(styleAttributes)) {\n",
              "    element.style[key] = styleAttributes[key];\n",
              "  }\n",
              "  return element;\n",
              "}\n",
              "\n",
              "// Max number of bytes which will be uploaded at a time.\n",
              "const MAX_PAYLOAD_SIZE = 100 * 1024;\n",
              "\n",
              "function _uploadFiles(inputId, outputId) {\n",
              "  const steps = uploadFilesStep(inputId, outputId);\n",
              "  const outputElement = document.getElementById(outputId);\n",
              "  // Cache steps on the outputElement to make it available for the next call\n",
              "  // to uploadFilesContinue from Python.\n",
              "  outputElement.steps = steps;\n",
              "\n",
              "  return _uploadFilesContinue(outputId);\n",
              "}\n",
              "\n",
              "// This is roughly an async generator (not supported in the browser yet),\n",
              "// where there are multiple asynchronous steps and the Python side is going\n",
              "// to poll for completion of each step.\n",
              "// This uses a Promise to block the python side on completion of each step,\n",
              "// then passes the result of the previous step as the input to the next step.\n",
              "function _uploadFilesContinue(outputId) {\n",
              "  const outputElement = document.getElementById(outputId);\n",
              "  const steps = outputElement.steps;\n",
              "\n",
              "  const next = steps.next(outputElement.lastPromiseValue);\n",
              "  return Promise.resolve(next.value.promise).then((value) => {\n",
              "    // Cache the last promise value to make it available to the next\n",
              "    // step of the generator.\n",
              "    outputElement.lastPromiseValue = value;\n",
              "    return next.value.response;\n",
              "  });\n",
              "}\n",
              "\n",
              "/**\n",
              " * Generator function which is called between each async step of the upload\n",
              " * process.\n",
              " * @param {string} inputId Element ID of the input file picker element.\n",
              " * @param {string} outputId Element ID of the output display.\n",
              " * @return {!Iterable<!Object>} Iterable of next steps.\n",
              " */\n",
              "function* uploadFilesStep(inputId, outputId) {\n",
              "  const inputElement = document.getElementById(inputId);\n",
              "  inputElement.disabled = false;\n",
              "\n",
              "  const outputElement = document.getElementById(outputId);\n",
              "  outputElement.innerHTML = '';\n",
              "\n",
              "  const pickedPromise = new Promise((resolve) => {\n",
              "    inputElement.addEventListener('change', (e) => {\n",
              "      resolve(e.target.files);\n",
              "    });\n",
              "  });\n",
              "\n",
              "  const cancel = document.createElement('button');\n",
              "  inputElement.parentElement.appendChild(cancel);\n",
              "  cancel.textContent = 'Cancel upload';\n",
              "  const cancelPromise = new Promise((resolve) => {\n",
              "    cancel.onclick = () => {\n",
              "      resolve(null);\n",
              "    };\n",
              "  });\n",
              "\n",
              "  // Wait for the user to pick the files.\n",
              "  const files = yield {\n",
              "    promise: Promise.race([pickedPromise, cancelPromise]),\n",
              "    response: {\n",
              "      action: 'starting',\n",
              "    }\n",
              "  };\n",
              "\n",
              "  cancel.remove();\n",
              "\n",
              "  // Disable the input element since further picks are not allowed.\n",
              "  inputElement.disabled = true;\n",
              "\n",
              "  if (!files) {\n",
              "    return {\n",
              "      response: {\n",
              "        action: 'complete',\n",
              "      }\n",
              "    };\n",
              "  }\n",
              "\n",
              "  for (const file of files) {\n",
              "    const li = document.createElement('li');\n",
              "    li.append(span(file.name, {fontWeight: 'bold'}));\n",
              "    li.append(span(\n",
              "        `(${file.type || 'n/a'}) - ${file.size} bytes, ` +\n",
              "        `last modified: ${\n",
              "            file.lastModifiedDate ? file.lastModifiedDate.toLocaleDateString() :\n",
              "                                    'n/a'} - `));\n",
              "    const percent = span('0% done');\n",
              "    li.appendChild(percent);\n",
              "\n",
              "    outputElement.appendChild(li);\n",
              "\n",
              "    const fileDataPromise = new Promise((resolve) => {\n",
              "      const reader = new FileReader();\n",
              "      reader.onload = (e) => {\n",
              "        resolve(e.target.result);\n",
              "      };\n",
              "      reader.readAsArrayBuffer(file);\n",
              "    });\n",
              "    // Wait for the data to be ready.\n",
              "    let fileData = yield {\n",
              "      promise: fileDataPromise,\n",
              "      response: {\n",
              "        action: 'continue',\n",
              "      }\n",
              "    };\n",
              "\n",
              "    // Use a chunked sending to avoid message size limits. See b/62115660.\n",
              "    let position = 0;\n",
              "    do {\n",
              "      const length = Math.min(fileData.byteLength - position, MAX_PAYLOAD_SIZE);\n",
              "      const chunk = new Uint8Array(fileData, position, length);\n",
              "      position += length;\n",
              "\n",
              "      const base64 = btoa(String.fromCharCode.apply(null, chunk));\n",
              "      yield {\n",
              "        response: {\n",
              "          action: 'append',\n",
              "          file: file.name,\n",
              "          data: base64,\n",
              "        },\n",
              "      };\n",
              "\n",
              "      let percentDone = fileData.byteLength === 0 ?\n",
              "          100 :\n",
              "          Math.round((position / fileData.byteLength) * 100);\n",
              "      percent.textContent = `${percentDone}% done`;\n",
              "\n",
              "    } while (position < fileData.byteLength);\n",
              "  }\n",
              "\n",
              "  // All done.\n",
              "  yield {\n",
              "    response: {\n",
              "      action: 'complete',\n",
              "    }\n",
              "  };\n",
              "}\n",
              "\n",
              "scope.google = scope.google || {};\n",
              "scope.google.colab = scope.google.colab || {};\n",
              "scope.google.colab._files = {\n",
              "  _uploadFiles,\n",
              "  _uploadFilesContinue,\n",
              "};\n",
              "})(self);\n",
              "</script> "
            ]
          },
          "metadata": {}
        },
        {
          "output_type": "stream",
          "name": "stdout",
          "text": [
            "Saving TUT 2  11.csv to TUT 2  11 (17).csv\n",
            "         Date     Product  Quantity  Price     Category\n",
            "0  2024-10-01  Smartphone         5    300  Electronics\n",
            "1  2024-10-01     T-Shirt        10     20     Clothing\n",
            "2  2024-10-02      Laptop         3    800  Electronics\n",
            "3  2024-10-02      Apples        20      1    Groceries\n",
            "4  2024-10-03       Jeans         5     50     Clothing\n",
            "5  2024-10-03  Headphones         2    100  Electronics\n",
            "         Date     Product  Quantity  Price     Category  Total_sales\n",
            "0  2024-10-01  Smartphone         5    300  Electronics         1500\n",
            "1  2024-10-01     T-Shirt        10     20     Clothing          200\n",
            "2  2024-10-02      Laptop         3    800  Electronics         2400\n",
            "3  2024-10-02      Apples        20      1    Groceries           20\n",
            "4  2024-10-03       Jeans         5     50     Clothing          250\n",
            "5  2024-10-03  Headphones         2    100  Electronics          200\n",
            "Date\n",
            "2024-10-01    1700\n",
            "2024-10-02    2420\n",
            "2024-10-03     450\n",
            "Name: Total_sales, dtype: int64\n",
            "Product\n",
            "Laptop        2400\n",
            "Smartphone    1500\n",
            "Jeans          250\n",
            "Name: Total_sales, dtype: int64\n",
            "Category\n",
            "Clothing        450\n",
            "Electronics    4100\n",
            "Groceries        20\n",
            "Name: Total_sales, dtype: int64\n"
          ]
        },
        {
          "output_type": "display_data",
          "data": {
            "text/plain": [
              "<Figure size 1000x600 with 1 Axes>"
            ],
            "image/png": "[encoded data removed]"
          },
          "metadata": {}
        },
        {
          "output_type": "stream",
          "name": "stdout",
          "text": [
            "0    1500\n",
            "1     200\n",
            "2    2400\n",
            "3      20\n",
            "4     250\n",
            "5     200\n",
            "Name: Total Sales, dtype: int64\n",
            "Date\n",
            "2024-10-01    1700\n",
            "2024-10-02    2420\n",
            "2024-10-03     450\n",
            "Name: Daily Total Sales, dtype: int64\n"
          ]
        }
      ]
    }
  ],
  "metadata": {
    "colab": {
      "provenance": [],
      "include_colab_link": true
    },
    "kernelspec": {
      "display_name": "Python 3",
      "name": "python3"
    },
    "language_info": {
      "name": "python"
    }
  },
  "nbformat": 4,
  "nbformat_minor": 0
}