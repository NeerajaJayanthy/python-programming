{
  "nbformat": 4,
  "nbformat_minor": 0,
  "metadata": {
    "colab": {
      "provenance": [],
      "authorship_tag": "ABX9TyMfQbq6+HTjtjvfKrvfwzlH",
      "include_colab_link": true
    },
    "kernelspec": {
      "name": "python3",
      "display_name": "Python 3"
    },
    "language_info": {
      "name": "python"
    }
  },
  "cells": [
    {
      "cell_type": "markdown",
      "metadata": {
        "id": "view-in-github",
        "colab_type": "text"
      },
      "source": [
        "<a href=\"https://colab.research.google.com/github/NeerajaJayanthy/python-programming/blob/main/python_problems.ipynb\" target=\"_parent\"><img src=\"https://colab.research.google.com/assets/colab-badge.svg\" alt=\"Open In Colab\"/></a>"
      ]
    },
    {
      "cell_type": "markdown",
      "source": [
        "**Tutorial 1 LISTS, TUPLES and DICTIONARIES**"
      ],
      "metadata": {
        "id": "eyf9HlfGpXEb"
      }
    },
    {
      "cell_type": "markdown",
      "source": [
        "Write a program that accepts a sentence and calculate the number of letters and digits. Suppose the following input is supplied to the program:hello world! 123 Then, the output should be: LETTERS 10 DIGITS 3. Use Dictionary.\n",
        "\n"
      ],
      "metadata": {
        "id": "-xR8bcYbrWrZ"
      }
    },
    {
      "cell_type": "code",
      "execution_count": null,
      "metadata": {
        "colab": {
          "base_uri": "https://localhost:8080/"
        },
        "id": "oQNKubBYpIi1",
        "outputId": "5948246f-2b2d-435f-fd6f-de95b69958ec"
      },
      "outputs": [
        {
          "output_type": "stream",
          "name": "stdout",
          "text": [
            "Enter a sentence: hello world123\n",
            "LETTERS 10,DIGITS 3\n"
          ]
        }
      ],
      "source": [
        "# Input a sentence from the user\n",
        "x= input(\"Enter a sentence: \")\n",
        "\n",
        "# Initialize a dictionary to store the count of letters and digits\n",
        "count_dict = {'LETTERS': 0, 'DIGITS': 0}\n",
        "\n",
        "# Iterate over each character in the input string\n",
        "for char in x:\n",
        "    # Check if the character is a digit\n",
        "    if char.isdigit():\n",
        "        count_dict['DIGITS'] += 1\n",
        "    # Check if the character is a letter\n",
        "    elif char.isalpha():\n",
        "        count_dict['LETTERS'] += 1\n",
        "\n",
        "# Display the counts stored in the dictionary\n",
        "print(f\"LETTERS {count_dict['LETTERS']},DIGITS {count_dict['DIGITS']}\")\n"
      ]
    },
    {
      "cell_type": "markdown",
      "source": [
        "You are required to write a program to sort the (name, age, height) tuples by ascending order where name is string, age and height are numbers. The tuples are input by console. The sort criteria is: 1: Sort based on name; 2: Then sort based on age; 3: Then sort by score. The priority is that name > age > score. If the following tuples are given as input to the program: Tom,19,80 John,20,90 Jony,17,91 Jony,17,93 Json,21,85 Then, the output of the program should be: [('John', '20', '90'), ('Jony', '17', '91'), ('Jony', '17', '93'), ('Json', '21', '85'), ('Tom', '19', '80')]."
      ],
      "metadata": {
        "id": "k1vwL38Q-fV_"
      }
    },
    {
      "cell_type": "code",
      "source": [
        "def input_tuples():\n",
        "    tuples_list = []\n",
        "    while True:\n",
        "        # Input the details from the user\n",
        "        data = input(\"Enter name, age, height: \")\n",
        "        # Stop the input if the user presses Enter\n",
        "        if not data:\n",
        "            break\n",
        "        # Split the input into name, age, and height\n",
        "        name, age, height = data.split(',')\n",
        "        # Add the tuple to the list (convert age and height to integers)\n",
        "        #.srtrip() removes extra spaces from name ahe and height\n",
        "        tuples_list.append((name.strip(), int(age.strip()), int(height.strip())))\n",
        "\n",
        "    return tuples_list\n",
        "\n",
        "def sort_tuples(tuples_list):\n",
        "    # Sort by name, age, and height (in that order)\n",
        "    #key = lambda allows you to define a custom sorting or comparison rule for your data.\n",
        "\n",
        "    return sorted(tuples_list, key=lambda x: (x[0], x[1], x[2]))\n",
        "\n",
        "# Main program\n",
        "tuples_list = input_tuples()\n",
        "sorted_tuples = sort_tuples(tuples_list)\n",
        "\n",
        "# Display the sorted tuples\n",
        "print(\"\\nSorted (name, age, height) tuples:\")\n",
        "for t in sorted_tuples:\n",
        "    print(t)\n"
      ],
      "metadata": {
        "id": "_LyvbnaP-pwa",
        "colab": {
          "base_uri": "https://localhost:8080/"
        },
        "outputId": "4e3f9882-b96e-4100-c615-566d8c206528"
      },
      "execution_count": null,
      "outputs": [
        {
          "output_type": "stream",
          "name": "stdout",
          "text": [
            "Enter name, age, height: mni,86,45\n",
            "Enter name, age, height: ujhg,75,48\n",
            "Enter name, age, height: jinu,46,87\n",
            "Enter name, age, height: \n",
            "\n",
            "Sorted (name, age, height) tuples:\n",
            "('jinu', 46, 87)\n",
            "('mni', 86, 45)\n",
            "('ujhg', 75, 48)\n"
          ]
        }
      ]
    },
    {
      "cell_type": "markdown",
      "source": [
        "A robot moves in a plane starting from the original point (0,0). The robot can move toward UP, DOWN, LEFT and RIGHT with a given steps. The trace of robot movement is shown as the following: UP 5 DOWN 3 LEFT\n",
        "3 RIGHT 2 ¡The numbers after the direction are steps. Please write a\n",
        "program to compute the distance from current position after a sequence of movement and original point. If the distance is a float, then just print the nearest integer. Example: If the following tuples are given as input to the program: UP 5 DOWN 3 LEFT 3 RIGHT 2 Then, the output of the program should be: 2."
      ],
      "metadata": {
        "id": "173ZzgovP7_P"
      }
    },
    {
      "cell_type": "code",
      "source": [
        "import math\n",
        "# Function to compute the distance from origin after movements\n",
        "def calculate_distance():\n",
        "    # Initialize the starting point\n",
        "    x, y = 0, 0\n",
        "\n",
        "    # Continuously accept inputs for movements\n",
        "    while True:\n",
        "        movement = input(\"Enter direction and movement \")\n",
        "\n",
        "        # Stop if the input is empty\n",
        "        if not movement:\n",
        "            break\n",
        "\n",
        "        # Split the input into direction and steps\n",
        "        direction, steps = movement.split(',')\n",
        "        steps = int(steps)  # Convert steps to integer\n",
        "\n",
        "        # Adjust x and y based on the direction\n",
        "        if direction.upper() == \"UP\":\n",
        "            y += steps\n",
        "        elif direction.upper() == \"DOWN\":\n",
        "            y -= steps\n",
        "        elif direction.upper() == \"LEFT\":\n",
        "            x -= steps\n",
        "        elif direction.upper() == \"RIGHT\":\n",
        "            x += steps\n",
        "\n",
        "    # Calculate the Euclidean distance from origin (0, 0) using Pythagoras theorem\n",
        "    distance = math.sqrt(x**2 + y**2)\n",
        "\n",
        "    # Return the nearest integer of the distance\n",
        "    return round(distance)\n",
        "\n",
        "# Call the function and print the result\n",
        "result = calculate_distance()\n",
        "print(result)\n"
      ],
      "metadata": {
        "colab": {
          "base_uri": "https://localhost:8080/"
        },
        "id": "OzZ3NzyzR180",
        "outputId": "467df59e-7354-44f4-aeb2-59c713dadafb"
      },
      "execution_count": null,
      "outputs": [
        {
          "output_type": "stream",
          "name": "stdout",
          "text": [
            "Enter direction and movement up,6\n",
            "Enter direction and movement down,2\n",
            "Enter direction and movement \n",
            "4\n"
          ]
        }
      ]
    },
    {
      "cell_type": "markdown",
      "source": [
        "**The birthday paradox is based on a counter-intuitive fact that in any class of 23 students or more, there is a higher probability of having at least two students sharing the same birthday. Considering that there are 366 different possible dates in a year (leap year), you may first predict that it would take a group of 183 students (50% of 366) to reach a 50% probability of at least two students sharing the same birthday. However this prediction would be wrong as this is not how the probabilities work in this case. You can use this page to find out more how to work out that with a class size of only 23 students, there is a probability of 50% that at least two students share the same birthday.**\n",
        "\n",
        "\n"
      ],
      "metadata": {
        "id": "T4_8sgxJTWHB"
      }
    },
    {
      "cell_type": "code",
      "source": [
        "import random\n",
        "\n",
        "# Function to simulate one experiment\n",
        "def has_shared_birthday(num_people):\n",
        "    birthdays = []\n",
        "    for _ in range(num_people):\n",
        "        # Randomly generate a birthday between 1 and 366 (inclusive for leap years)\n",
        "        birthday = random.randint(1, 366)\n",
        "        if birthday in birthdays:\n",
        "            return True\n",
        "        birthdays.append(birthday)\n",
        "    return False\n",
        "\n",
        "# Simulate the experiment multiple times\n",
        "def simulate_birthday_paradox(num_people, num_simulations):\n",
        "    shared_birthday_count = 0\n",
        "    for _ in range(num_simulations):\n",
        "        if has_shared_birthday(num_people):\n",
        "            shared_birthday_count += 1\n",
        "    return shared_birthday_count / num_simulations\n",
        "\n",
        "# Set parameters\n",
        "num_people = 23\n",
        "num_simulations = 10000\n",
        "\n",
        "# Run the simulation\n",
        "probability = simulate_birthday_paradox(num_people, num_simulations)\n",
        "print(f\"Probability of at least two people sharing a birthday in a group of {num_people}: {probability * 100:.2f}%\")\n"
      ],
      "metadata": {
        "colab": {
          "base_uri": "https://localhost:8080/"
        },
        "id": "1sMLy2GEUo1c",
        "outputId": "e848a84b-9150-48c5-d45e-e7321c7f62f2"
      },
      "execution_count": null,
      "outputs": [
        {
          "output_type": "stream",
          "name": "stdout",
          "text": [
            "Probability of at least two people sharing a birthday in a group of 23: 50.60%\n"
          ]
        }
      ]
    },
    {
      "cell_type": "markdown",
      "source": [
        "**Write a Python script to create a quiz where we ask the user to guess as many African countries as possible. The player will score one point per correct country. The player has three lives. For each invalid answer, the player should lose a life. The game should stop and display a game over message when the player has found all 54 countries or when they have lost their 3 lives.**"
      ],
      "metadata": {
        "id": "J9I6hHKYgl-5"
      }
    },
    {
      "cell_type": "code",
      "source": [
        "# List of all African countries\n",
        "african_countries = [\n",
        "    \"Algeria\", \"Angola\", \"Benin\", \"Botswana\", \"Burkina Faso\", \"Burundi\", \"Cabo Verde\", \"Cameroon\",\n",
        "    \"Central African Republic\", \"Chad\", \"Comoros\", \"Democratic Republic of the Congo\", \"Djibouti\",\n",
        "    \"Egypt\", \"Equatorial Guinea\", \"Eritrea\", \"Eswatini\", \"Ethiopia\", \"Gabon\", \"Gambia\", \"Ghana\",\n",
        "    \"Guinea\", \"Guinea-Bissau\", \"Ivory Coast\", \"Kenya\", \"Lesotho\", \"Liberia\", \"Libya\", \"Madagascar\",\n",
        "    \"Malawi\", \"Mali\", \"Mauritania\", \"Mauritius\", \"Morocco\", \"Mozambique\", \"Namibia\", \"Niger\",\n",
        "    \"Nigeria\", \"Republic of the Congo\", \"Rwanda\", \"Sao Tome and Principe\", \"Senegal\", \"Seychelles\",\n",
        "    \"Sierra Leone\", \"Somalia\", \"South Africa\", \"South Sudan\", \"Sudan\", \"Tanzania\", \"Togo\", \"Tunisia\",\n",
        "    \"Uganda\", \"Zambia\", \"Zimbabwe\"\n",
        "]\n",
        "\n",
        "# Set of countries the player has already guessed\n",
        "guessed_countries = set()\n",
        "\n",
        "# Player has 3 lives\n",
        "lives = 3\n",
        "\n",
        "# Points (correct guesses)\n",
        "points = 0\n",
        "\n",
        "print(\"Welcome to the African Countries Quiz!\")\n",
        "print(\"You need to guess as many African countries as possible. You have 3 lives.\")\n",
        "print(\"For each incorrect guess, you lose a life. The game ends when you lose all your lives or guess all 54 countries.\\n\")\n",
        "\n",
        "# Main game loop\n",
        "while lives > 0 and len(guessed_countries) < 54:\n",
        "    guess = input(\"Enter the name of an African country: \").strip()\n",
        "\n",
        "    # Check if the guess is correct and not already guessed\n",
        "    if guess in african_countries and guess not in guessed_countries:\n",
        "        guessed_countries.add(guess)  # Add the correct guess to the set\n",
        "        points += 1\n",
        "        print(f\"Correct! You've guessed {points} countries.\")\n",
        "    # Check if the country has already been guessed\n",
        "    elif guess in guessed_countries:\n",
        "        print(f\"You've already guessed {guess}. Try another country.\")\n",
        "    else:\n",
        "        lives -= 1  # Wrong guess, lose a life\n",
        "        print(f\"Incorrect! You have {lives} lives remaining.\")\n",
        "\n",
        "# Game over\n",
        "if lives == 0:\n",
        "    print(\"\\nGame Over! You've lost all your lives.\")\n",
        "else:\n",
        "    print(\"\\nCongratulations! You've guessed all African countries.\")\n",
        "\n",
        "print(f\"Your final score is: {points}\")\n",
        "print(f\"Countries you guessed: {', '.join(guessed_countries)}\")\n"
      ],
      "metadata": {
        "colab": {
          "base_uri": "https://localhost:8080/"
        },
        "id": "0rCdssY-gqPb",
        "outputId": "ac46854a-c324-419e-8d84-28bd1275f0ee"
      },
      "execution_count": null,
      "outputs": [
        {
          "output_type": "stream",
          "name": "stdout",
          "text": [
            "Welcome to the African Countries Quiz!\n",
            "You need to guess as many African countries as possible. You have 3 lives.\n",
            "For each incorrect guess, you lose a life. The game ends when you lose all your lives or guess all 54 countries.\n",
            "\n",
            "Enter the name of an African country: algeria\n",
            "Incorrect! You have 2 lives remaining.\n",
            "Enter the name of an African country: Algeria\n",
            "Correct! You've guessed 1 countries.\n",
            "Enter the name of an African country: Sudan\n",
            "Correct! You've guessed 2 countries.\n",
            "Enter the name of an African country: Zimbabwe\n",
            "Correct! You've guessed 3 countries.\n",
            "Enter the name of an African country: \n",
            "Incorrect! You have 1 lives remaining.\n",
            "Enter the name of an African country: Benin\n",
            "Correct! You've guessed 4 countries.\n",
            "Enter the name of an African country: jjjj\n",
            "Incorrect! You have 0 lives remaining.\n",
            "\n",
            "Game Over! You've lost all your lives.\n",
            "Your final score is: 4\n",
            "Countries you guessed: Sudan, Algeria, Zimbabwe, Benin\n"
          ]
        }
      ]
    },
    {
      "cell_type": "markdown",
      "source": [
        "The School Lockers Puzzle: On the first day of school, the principal of Locker High school decides to conduct an experiment. The school has exactly 1,000 students and 1,000 lockers all lined up alongside the main corridor of the school.\n",
        "●The principal asks the first student to walk down the main corridor of the school to close all the lockers.\n",
        "●The principal then asks the second student to walk down the main corridor and open every other locker.\n",
        "●The principal then asks the third student to walk down the main corridor and either open every third locker if it is closed, or close it if it is open.\n",
        "●The fourth student will then repeat the same process for every fourth locker.\n",
        "●And so on, till the last of the 1,000 students repeats this process for every 1,000th locker, so in fact, just opening the 1,000th locker if it is closed, or closing it if it is already open.\n",
        "At the end of this experiment the principal decides to count the number of lockers which are closed.\n",
        "Write a python program to simulate this experiment and at the end, count and output the total number of lockers which are closed."
      ],
      "metadata": {
        "id": "5KfEdfQ9jcZJ"
      }
    },
    {
      "cell_type": "code",
      "source": [
        "def school_lockers_experiment(num_lockers):\n",
        "    # Initially, all lockers are closed (represented by False)\n",
        "    lockers = [False] * num_lockers  # False means closed, True means open\n",
        "\n",
        "    # Simulate the experiment where each student toggles lockers\n",
        "    for student in range(1, num_lockers + 1):\n",
        "        # Each student toggles lockers they encounter (every nth locker for nth student)\n",
        "        for locker in range(student - 1, num_lockers, student):\n",
        "            lockers[locker] = not lockers[locker]  # Toggle the state of the locker\n",
        "\n",
        "    # Count how many lockers are closed (False)\n",
        "    closed_lockers_count = lockers.count(False)\n",
        "\n",
        "    return closed_lockers_count\n",
        "\n",
        "# Number of lockers (and students)\n",
        "num_lockers = 1000\n",
        "\n",
        "# Run the experiment and get the result\n",
        "closed_lockers = school_lockers_experiment(num_lockers)\n",
        "\n",
        "# Output the result\n",
        "print(f\"The number of lockers that are closed: {closed_lockers}\")\n"
      ],
      "metadata": {
        "colab": {
          "base_uri": "https://localhost:8080/"
        },
        "id": "E6KpKZuGkWAa",
        "outputId": "bec22ff3-16d1-4190-f606-e6e0927ded3a"
      },
      "execution_count": null,
      "outputs": [
        {
          "output_type": "stream",
          "name": "stdout",
          "text": [
            "The number of lockers that are closed: 969\n"
          ]
        }
      ]
    },
    {
      "cell_type": "markdown",
      "source": [
        "Given N names and phone numbers, assemble a phone book that maps friends' names to their respective phone numbers. You will then be given an unknown number of names to query your phone book for. For each name queried, print the associated entry from your phone book on a new line in the form name=phoneNumber; if an entry name for is not found, print Not found instead.\n",
        "Note: Your phone book should be a Dictionary data structure.\n",
        "Input Format\n",
        "The first line contains an integer, N, denoting the number of entries in the phone book.\n",
        "Each of the N subsequent lines describes an entry in the form of 2-space-separated values on a single line. The first value is a friend's name, and the second value is an 8-digit phone number.\n",
        "After the N lines of phone book entries, there are an unknown number of lines of queries. Each line (query) contains a name to look up, and you must continue reading lines until there is no more input.\n",
        "Note: Names consist of lowercase English alphabetic letters and are first names only."
      ],
      "metadata": {
        "id": "l3-5i9v-mBg6"
      }
    },
    {
      "cell_type": "code",
      "source": [
        "# Input the number of entries\n",
        "n = int(input())\n",
        "\n",
        "# Initialize an empty dictionary for the phone book\n",
        "phone_book = {}\n",
        "\n",
        "# Read the phone book entries\n",
        "for _ in range(n):\n",
        "    # Split each input line into name and phone number\n",
        "    entry = input().split()\n",
        "    name = entry[0]\n",
        "    phone_number = entry[1]\n",
        "\n",
        "    # Add the entry to the phone book\n",
        "    phone_book[name] = phone_number\n",
        "\n",
        "# Process queries until end of input\n",
        "try:\n",
        "    while True:\n",
        "        # Read each query\n",
        "        query = input().strip()\n",
        "\n",
        "        # Check if the queried name exists in the phone book\n",
        "        if query in phone_book:\n",
        "            print(f\"{query}={phone_book[query]}\")\n",
        "        else:\n",
        "            print(\"Not found\")\n",
        "except EOFError:\n",
        "    # End of input\n",
        "    pass\n",
        "s"
      ],
      "metadata": {
        "colab": {
          "base_uri": "https://localhost:8080/"
        },
        "id": "e-21dVR0mZJx",
        "outputId": "0c425ebc-03dc-41ef-e1d3-cba3fc88d7d1"
      },
      "execution_count": null,
      "outputs": [
        {
          "metadata": {
            "tags": null
          },
          "name": "stdout",
          "output_type": "stream",
          "text": [
            "Not found\n",
            "Not found\n",
            "sam=994757648\n"
          ]
        }
      ]
    },
    {
      "cell_type": "markdown",
      "source": [
        "In this challenge we will use a Python algorithm to perform a frequency analysis of the score obtained when throwing a set of two dice.\n",
        "Frequency analysis using 1 dice\n",
        "Let’s consider a single 6-sided dice.\n",
        "When using single dice, the score of the dice can be any of the 6 values/sides (1 to 6). Each value has an equal probability of 1/6.\n",
        "The dice experiment can be simulated using a computer algorithm to simulate throwing a dice 1,000 times and keeping a record of the number of times each of the 6 values appeared. We can then calculate the frequency of each value as a percentage. In theory, each value should have a very similar frequency of around 16.67% (matching the 1/6 probability). When completing such an experiment in real life, we would most likely use a tally\n",
        "chart to record the number of occurrences for each of the 6 possible values. To record our “tallies” in a Python program we will use a dictionary with 6 keys (the 6 values of a dice, from 1 to 6) and for each key, the associated value will be the number of occurrences of when the value appeared."
      ],
      "metadata": {
        "id": "AzcDMmgWnKPv"
      }
    },
    {
      "cell_type": "code",
      "source": [
        "import random\n",
        "\n",
        "def simulate_dice_rolls(num_rolls):\n",
        "    # Dictionary to store the tally of each value (1 to 6)\n",
        "    tally = {i: 0 for i in range(1, 7)}\n",
        "\n",
        "    # Simulate dice rolls\n",
        "    for _ in range(num_rolls):\n",
        "        roll = random.randint(1, 6)  # Generate a random roll between 1 and 6\n",
        "        tally[roll] += 1  # Increment the count for the rolled value\n",
        "\n",
        "    # Calculate and display frequency analysis\n",
        "    print(\"Value\\tCount\\tFrequency (%)\")\n",
        "    for value, count in tally.items():\n",
        "        frequency = (count / num_rolls) * 100  # Calculate frequency as percentage\n",
        "        print(f\"{value}\\t{count}\\t{frequency:.2f}%\")\n",
        "\n",
        "    return tally\n",
        "\n",
        "# Simulate 1000 dice rolls\n",
        "num_rolls = 1000\n",
        "simulate_dice_rolls(num_rolls)\n"
      ],
      "metadata": {
        "id": "ms669cSGoETr"
      },
      "execution_count": null,
      "outputs": []
    }
  ]
}